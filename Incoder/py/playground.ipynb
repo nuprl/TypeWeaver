{
 "cells": [
  {
   "cell_type": "markdown",
   "metadata": {},
   "source": [
    "This is based on code from:\n",
    "\n",
    "https://huggingface.co/spaces/facebook/incoder-demo/blob/main/modules/app.py"
   ]
  },
  {
   "cell_type": "markdown",
   "metadata": {},
   "source": [
    "## Prerequisites\n",
    "\n",
    "1. Compile the Rust code in `../rs` with `cargo build`.\n",
    "2. You will need a GPU with 10+ GB of memory."
   ]
  },
  {
   "cell_type": "code",
   "execution_count": 1,
   "metadata": {},
   "outputs": [],
   "source": [
    "from pathlib import Path\n",
    "import re\n",
    "import model\n",
    "import main\n",
    "import importlib\n",
    "import torch"
   ]
  },
  {
   "cell_type": "markdown",
   "metadata": {},
   "source": [
    "## Choose the Model\n",
    "\n",
    "If you reload the next cell, be sure to reload the TypeInference class in the next cell."
   ]
  },
  {
   "cell_type": "code",
   "execution_count": 2,
   "metadata": {},
   "outputs": [],
   "source": [
    "m = model.init_model(\"facebook/incoder-1B\")"
   ]
  },
  {
   "cell_type": "markdown",
   "metadata": {},
   "source": [
    "## Load Type Inference\n",
    "\n",
    "It is a huge pain to reload the whole notebook when we modify the TypeInference class. \n",
    "Reloading it is straightforward with importlib. However, we also have to clear tensors in VRAM that\n",
    "were placed by an earlier invocation.\n",
    "\n",
    "Set the `temperature > 0.0` in the constructor to sample types instead of producing types greedily.\n",
    "However, note that greedy sampling is substantially faster."
   ]
  },
  {
   "cell_type": "code",
   "execution_count": 3,
   "metadata": {},
   "outputs": [],
   "source": [
    "importlib.reload(main)\n",
    "typeinf = main.TypeInference(**m)\n",
    "torch.cuda.empty_cache()"
   ]
  },
  {
   "cell_type": "markdown",
   "metadata": {},
   "source": [
    "## Run Inference\n",
    "\n",
    "Inference reads a file and produces its contents with types filled in."
   ]
  },
  {
   "cell_type": "code",
   "execution_count": 4,
   "metadata": {},
   "outputs": [
    {
     "data": {
      "application/vnd.jupyter.widget-view+json": {
       "model_id": "23e47d313f6d4843bb8f86cb9bdd74b4",
       "version_major": 2,
       "version_minor": 0
      },
      "text/plain": [
       "0it [00:00, ?it/s]"
      ]
     },
     "metadata": {},
     "output_type": "display_data"
    },
    {
     "name": "stdout",
     "output_type": "stream",
     "text": [
      "let rrt = require('rrt');\n",
      "let Point = rrt.Point;\n",
      "let Line = rrt.Line;\n",
      "let c = lib220.newCanvas(400, 400);\n",
      "\n",
      "function drawMap(canvas: HTMLCanvasElement,  map: Map) {\n",
      "  map.forEach(function(l: Line) {\n",
      "    drawLine(canvas, l.p1, l.p2, [0, 0, 0]);\n",
      "  });\n",
      "}\n",
      "\n",
      "function drawPoint(canvas: HTMLCanvasElement,  p: Point,  color: string) {\n",
      "  canvas.drawFilledCircle(p.x, p.y, 2, color);\n",
      "}\n",
      "\n",
      "function drawLine(canvas: HTMLCanvasElement,  p1: Point,  p2: Point,  color: Color) {\n",
      "  canvas.drawLine(p1.x, p1.y, p2.x, p2.y, color);\n",
      "}\n",
      "\n",
      "function drawTree(canvas: HTMLCanvasElement,  tree: Tree) {\n",
      "  let p1 = tree.node;\n",
      "  tree.children.forEach(function(p2: P2) {\n",
      "    canvas.drawLine(p1.x, p1.y, p2.node.x, p2.node.y, [0, 0, 1]);\n",
      "    drawTree(canvas, p2);\n",
      "  });\n",
      "}\n",
      "\n",
      "function drawPath(canvas: HTMLCanvasElement,  path: Path,  color: string) {\n",
      "  for (let i = 1; i < path.length; ++i) {\n",
      "    drawLine(c, path[i], path[i - 1], color);\n",
      "  }\n",
      "}\n",
      "\n",
      "class Tree {\n",
      "  constructor(node, parent) {\n",
      "    this.node = node;\n",
      "    this.parent = parent;\n",
      "    this.children = [];\n",
      "  }\n",
      "  nearest(p, map) {\n",
      "    let d = distance(this.node, p);\n",
      "    let best = this;\n",
      "    if (collides(map, p, this.node)) {\n",
      "      d = d * 1000;\n",
      "    }\n",
      "    for (let i = 0; i < this.children.length; ++i) {\n",
      "      let p2 = this.children[i].nearest(p, map);\n",
      "      let d2 = distance(p2.node, p);\n",
      "      if (collides(map, p2.node, p)) {\n",
      "        d2 = d2 * 1000;\n",
      "      }\n",
      "      if (d2 < d) {\n",
      "        best = p2;\n",
      "        d = d2;\n",
      "      }\n",
      "    }\n",
      "    return best;\n",
      "  }\n",
      "  extend(p, maxExtension) {\n",
      "    let p2 = p;\n",
      "    if (distance(p, this.node) > maxExtension) {\n",
      "      const d = distance(p, this.node);\n",
      "      p2 = new Point(this.node.x + maxExtension / d * (p.x - this.node.x),\n",
      "        this.node.y + maxExtension / d * (p.y - this.node.y));\n",
      "    }\n",
      "    return p2;\n",
      "  }\n",
      "  add(p) {\n",
      "    let qNew = new Tree(p, this);\n",
      "    this.children.push(qNew);\n",
      "    return qNew;\n",
      "  }\n",
      "}\n",
      "\n",
      "function distance(p1: Vector,  p2: Vector) {\n",
      "  return Math.sqrt((p1.x - p2.x) * (p1.x - p2.x) + (p1.y - p2.y) * (p1.y - p2.y));\n",
      "}\n",
      "\n",
      "function samplePoint(mapSize: number,  goal: number,  goalBias: number) {\n",
      "  const r = Math.random();\n",
      "  if (r < goalBias) {\n",
      "    return goal;\n",
      "  }\n",
      "  return new rrt.Point(mapSize * Math.random(), mapSize * Math.random());\n",
      "}\n",
      "\n",
      "function collides(map: Map,  p1: Point,  p2: Point) {\n",
      "  const l = new Line(p1, p2);\n",
      "  for (let i = 0; i < map.length; ++i) {\n",
      "    if (rrt.intersects(map[i], l)) {\n",
      "      return true;\n",
      "    }\n",
      "  }\n",
      "  return false;\n",
      "}\n",
      "\n",
      "function getPath(leaf: any,  goal: any) {\n",
      "  let path = [goal];\n",
      "  while (leaf !== 0) {\n",
      "    path.push(leaf.node);\n",
      "    leaf = leaf.parent;\n",
      "  }\n",
      "  return path;\n",
      "}\n",
      "\n",
      "function plan(start: number,  goal: number,  map: Map,  options: PlanOptions) {\n",
      "  let n = 0;\n",
      "  let tree = new Tree(start, 0);\n",
      "  while (n < options.maxSamples) {\n",
      "    let p = samplePoint(options.mapSize, goal, options.goalBias);\n",
      "    let q = tree.nearest(p, map);\n",
      "    let r = q.extend(p, options.maxExtension);\n",
      "    if (!collides(map, q.node, r)) {\n",
      "      let qNew = q.add(r);\n",
      "      if (!collides(map, r, goal)) {\n",
      "        options.callback(p, q, r, tree);\n",
      "        //console.log('Path found');\n",
      "        return getPath(qNew, goal);\n",
      "      }\n",
      "    }\n",
      "    options.callback(p, q, r, tree);\n",
      "    ++n;\n",
      "  }\n",
      "  //console.log('No path found');\n",
      "  return [];\n",
      "}\n",
      "\n",
      "function visualize(p: Point,  q: Point,  r: Point,  t: Point) {\n",
      "  c.clear();\n",
      "  drawMap(c, map);\n",
      "  drawPoint(c, start, [1, 0, 0]);\n",
      "  drawPoint(c, goal, [0, 0.75, 0]);\n",
      "  drawPoint(c, p, [0.5, 0.5, 0]);\n",
      "  drawPoint(c, q.node, [0, 1, 0.5]);\n",
      "  drawPoint(c, r, [0.25, 0.5, 0]);\n",
      "  drawLine(c, q.node, r, [1, 0, 0]);\n",
      "  drawLine(c, p, r, [1, 0.5, 0.8]);\n",
      "  drawTree(c, t);\n",
      "  lib220.sleep(10);\n",
      "}\n",
      "\n",
      "function hardMap(mapSize: number,  spacing: number,  opening: number) {\n",
      "  let map = [\n",
      "    new Line(new Point(0, 0), new Point(0, mapSize)),\n",
      "    new Line(new Point(mapSize, mapSize), new Point(0, mapSize)),\n",
      "    new Line(new Point(mapSize, mapSize), new Point(mapSize, 0)),\n",
      "    new Line(new Point(mapSize, 0), new Point(0, 0))\n",
      "  ];\n",
      "  for (let y = 0; y < mapSize; y = y + spacing) {\n",
      "    let x1 = Math.random() * (1 - opening) * mapSize;\n",
      "    let x2 = x1 + opening * mapSize;\n",
      "    map.push(new Line(new Point(0, y), new Point(x1, y)));\n",
      "    map.push(new Line(new Point(x2, y), new Point(mapSize, y)));\n",
      "  }\n",
      "  return map;\n",
      "}\n",
      "\n",
      "let options = {\n",
      "  mapSize: 400,\n",
      "  maxExtension: 10,\n",
      "  goalBias: 0.05,\n",
      "  maxSamples: 10000,\n",
      "  callback: visualize\n",
      "};\n",
      "\n",
      "\n",
      "function rotate(p: Point,  theta: number) {\n",
      "  return new Point(p.x * Math.cos(theta) - p.y * Math.sin(theta), \n",
      "    p.x * Math.sin(theta) + p.y * Math.cos(theta)); \n",
      "}\n",
      "\n",
      "function obstacle(p: Point,  a: number,  b: number,  theta: number) {\n",
      "  let lines = [];\n",
      "  let p1 = new Point(-a, -b);\n",
      "  let p2 = new Point(a, -b);\n",
      "  let p3 = new Point(a, b);\n",
      "  let p4 = new Point(-a, b);\n",
      "}\n",
      "\n",
      "\n",
      "function simplifyPath(path: Path,  map: Map) {\n",
      "  function reducer(newPath: Array<string>,  p: Array<string>) {\n",
      "    if (newPath.length < 2) {\n",
      "      newPath.push(p);\n",
      "      return newPath;\n",
      "    }\n",
      "    const last = newPath[newPath.length - 2];\n",
      "    if (collides(map, p, last)) {\n",
      "      newPath.push(p);\n",
      "    } else {\n",
      "      newPath[newPath.length - 1] = p;\n",
      "    }\n",
      "    return newPath;\n",
      "  }\n",
      "  return path.reduce(reducer, []);\n",
      "}\n",
      "\n",
      "let start = new Point(5, 5);\n",
      "let goal = new Point(385, 385);\n",
      "\n",
      "let map = [\n",
      "  new Line(new Point(0, 0), new Point(0, 400)),\n",
      "  new Line(new Point(400, 400), new Point(0, 400)),\n",
      "  new Line(new Point(400, 400), new Point(400, 0)),\n",
      "  new Line(new Point(400, 0), new Point(0, 0)),\n",
      "  new Line(new Point(0, 200), new Point(300, 200)),\n",
      "  new Line(new Point(0, 100), new Point(200, 100)),\n",
      "  new Line(new Point(300, 100), new Point(400, 100)),\n",
      "  new Line(new Point(100, 200), new Point(100, 300)),\n",
      "  new Line(new Point(200, 300), new Point(200, 400)),\n",
      "  new Line(new Point(300, 300), new Point(400, 300)),\n",
      "];\n",
      "\n",
      "if (false) {\n",
      "  map = hardMap(options.mapSize, 80, 0.1);\n",
      "  goal = new Point(385, 385);\n",
      "}\n",
      "let path = plan(start, goal, map, options);\n",
      "drawPath(c, path, [0, 0.8, 0]);\n",
      "let simplifiedPath = simplifyPath(path, map);\n",
      "drawPath(c, simplifiedPath, [0.8, 0, 0]);\n",
      "\n",
      "\n",
      "function verifyPath(path: Array<string>,  map: Map<string, any>) {\n",
      "  if (path.length < 1) {\n",
      "    assert(true);\n",
      "    return;\n",
      "  }\n",
      "  let init = {\n",
      "    collides: false,\n",
      "    prev: path[0]\n",
      "  }\n",
      "  let reducer = function(check: Function,  p: Function) {\n",
      "    check.collides = check.collides || collides(map, p, check.prev);\n",
      "    check.prev = p;\n",
      "    return check;\n",
      "  };\n",
      "  let result = path.reduce(reducer, init);\n",
      "  // console.log(path);\n",
      "  assert(!result.collides);\n",
      "}\n",
      "\n",
      "options = {\n",
      "  mapSize: 400,\n",
      "  maxExtension: 10,\n",
      "  goalBias: 0.05,\n",
      "  maxSamples: 10000,\n",
      "  callback: visualize // function(p: number,  q: number,  r: number,  t: number) {}\n",
      "};\n",
      "\n",
      "for (let i = 0; i < 10; ++i) {\n",
      "  test('Verify path' + i.toString(), function() {\n",
      "    let path = plan(start, goal, map, options);\n",
      "    let simplePath = simplifyPath(path, map);\n",
      "    drawPath(c, path, [0, 0.8, 0]);\n",
      "    drawPath(c, simplePath, [1, 0.4, 0]);\n",
      "    lib220.sleep(500);\n",
      "    verifyPath(path, map);\n",
      "    verifyPath(simplePath, map);\n",
      "    if (path.length >= 2) {\n",
      "    assert(path[0].x === goal.x && path[0].y === goal.y);\n",
      "    let lastPoint = path[path.length - 1];\n",
      "    assert(lastPoint.x === start.x && lastPoint.y === start.y);\n",
      "    }\n",
      "  });\n",
      "  console.log(i);\n",
      "  lib220.sleep(1);\n",
      "}\n"
     ]
    }
   ],
   "source": [
    "print(typeinf.infer(Path(\"../samples/joydeep_rrt.js\")))"
   ]
  },
  {
   "cell_type": "markdown",
   "metadata": {},
   "source": [
    "To see a succinct summary of the types that were inserted, see the type_log in the `typeinf` object."
   ]
  },
  {
   "cell_type": "code",
   "execution_count": 10,
   "metadata": {},
   "outputs": [
    {
     "data": {
      "text/plain": [
       "'HTMLCanvasElement, Map, Line, HTMLCanvasElement, Point, string, HTMLCanvasElement, Point, Point, Color, HTMLCanvasElement, Tree, P2, HTMLCanvasElement, Path, string, Vector, Vector, number, number, number, Map, Point, Point, any, any, number, number, Map, PlanOptions, Point, Point, Point, Point, number, number, number, Point, number, Point, number, number, number, Path, Map, Array<string>, Array<string>, Array<string>, Map<string, any>, Function, Function, number, number, number, number'"
      ]
     },
     "execution_count": 10,
     "metadata": {},
     "output_type": "execute_result"
    }
   ],
   "source": [
    "\", \".join([ item[\"type\"] for item in typeinf.type_log ])"
   ]
  },
  {
   "cell_type": "markdown",
   "metadata": {},
   "source": [
    "The log also has the prompts that were sent to the model."
   ]
  },
  {
   "cell_type": "code",
   "execution_count": null,
   "metadata": {},
   "outputs": [],
   "source": [
    "for item in typeinf.type_log:\n",
    "    print(\"Type = \", item[\"type\"], \"prompt = \", item[\"prompt\"])\n",
    "    print(\"*********************\")"
   ]
  }
 ],
 "metadata": {
  "kernelspec": {
   "display_name": "Python 3.8.10 ('gpu-venv')",
   "language": "python",
   "name": "python3"
  },
  "language_info": {
   "codemirror_mode": {
    "name": "ipython",
    "version": 3
   },
   "file_extension": ".py",
   "mimetype": "text/x-python",
   "name": "python",
   "nbconvert_exporter": "python",
   "pygments_lexer": "ipython3",
   "version": "3.8.10"
  },
  "orig_nbformat": 4,
  "vscode": {
   "interpreter": {
    "hash": "204bdcd29397665d46f1a80a4516424de0a3300ac5f21e5434f8f07deb3c89cc"
   }
  }
 },
 "nbformat": 4,
 "nbformat_minor": 2
}
